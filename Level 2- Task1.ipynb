{
 "cells": [
  {
   "cell_type": "markdown",
   "id": "c54ac2ca-fc36-4fca-93b7-81abf13873bd",
   "metadata": {},
   "source": [
    "LEVEL 2 - TASK 1: RESTAURANT RATINGS"
   ]
  },
  {
   "cell_type": "markdown",
   "id": "0e70088c-ec41-42ee-b86b-08d31726dd75",
   "metadata": {},
   "source": [
    "--1:1 Analyze the distribution of aggregate ratings and determine the most common rating range."
   ]
  },
  {
   "cell_type": "markdown",
   "id": "2bc54b4a-3769-4836-aec5-09eda561e177",
   "metadata": {},
   "source": [
    "--1:2 Calculate the average number of votes received by restaurants."
   ]
  },
  {
   "cell_type": "markdown",
   "id": "c9ffe1a4-4682-4258-aca3-6b9161c28da3",
   "metadata": {},
   "source": [
    "1:1 ANALYZE THE DISTRIBUTION OF AGGREGATE RATINGS AND DETERMINE THE MOST COMMON RATING RANGE."
   ]
  },
  {
   "cell_type": "code",
   "execution_count": 1,
   "id": "1db0bffb-921c-4a6d-9127-d2d2d5cc2ce0",
   "metadata": {},
   "outputs": [],
   "source": [
    "#import libraries\n",
    "import pandas as pd\n",
    "import numpy as np\n",
    "import matplotlib.pyplot as plt\n",
    "import seaborn as sns\n",
    "import plotly.express as px"
   ]
  },
  {
   "cell_type": "code",
   "execution_count": 2,
   "id": "a6c3c2c8-698d-4cf0-b603-28441428b954",
   "metadata": {},
   "outputs": [],
   "source": [
    "#import data\n",
    "dataset= pd.read_csv(\"dataset.csv\")"
   ]
  },
  {
   "cell_type": "code",
   "execution_count": 3,
   "id": "53582ba9-8d96-40f5-bf3a-0231ef7e3c42",
   "metadata": {},
   "outputs": [
    {
     "data": {
      "text/html": [
       "<div>\n",
       "<style scoped>\n",
       "    .dataframe tbody tr th:only-of-type {\n",
       "        vertical-align: middle;\n",
       "    }\n",
       "\n",
       "    .dataframe tbody tr th {\n",
       "        vertical-align: top;\n",
       "    }\n",
       "\n",
       "    .dataframe thead th {\n",
       "        text-align: right;\n",
       "    }\n",
       "</style>\n",
       "<table border=\"1\" class=\"dataframe\">\n",
       "  <thead>\n",
       "    <tr style=\"text-align: right;\">\n",
       "      <th></th>\n",
       "      <th>Restaurant ID</th>\n",
       "      <th>Restaurant Name</th>\n",
       "      <th>Country Code</th>\n",
       "      <th>City</th>\n",
       "      <th>Address</th>\n",
       "      <th>Locality</th>\n",
       "      <th>Locality Verbose</th>\n",
       "      <th>Longitude</th>\n",
       "      <th>Latitude</th>\n",
       "      <th>Cuisines</th>\n",
       "      <th>...</th>\n",
       "      <th>Currency</th>\n",
       "      <th>Has Table booking</th>\n",
       "      <th>Has Online delivery</th>\n",
       "      <th>Is delivering now</th>\n",
       "      <th>Switch to order menu</th>\n",
       "      <th>Price range</th>\n",
       "      <th>Aggregate rating</th>\n",
       "      <th>Rating color</th>\n",
       "      <th>Rating text</th>\n",
       "      <th>Votes</th>\n",
       "    </tr>\n",
       "  </thead>\n",
       "  <tbody>\n",
       "    <tr>\n",
       "      <th>0</th>\n",
       "      <td>6317637</td>\n",
       "      <td>Le Petit Souffle</td>\n",
       "      <td>162</td>\n",
       "      <td>Makati City</td>\n",
       "      <td>Third Floor, Century City Mall, Kalayaan Avenu...</td>\n",
       "      <td>Century City Mall, Poblacion, Makati City</td>\n",
       "      <td>Century City Mall, Poblacion, Makati City, Mak...</td>\n",
       "      <td>121.027535</td>\n",
       "      <td>14.565443</td>\n",
       "      <td>French, Japanese, Desserts</td>\n",
       "      <td>...</td>\n",
       "      <td>Botswana Pula(P)</td>\n",
       "      <td>Yes</td>\n",
       "      <td>No</td>\n",
       "      <td>No</td>\n",
       "      <td>No</td>\n",
       "      <td>3</td>\n",
       "      <td>4.8</td>\n",
       "      <td>Dark Green</td>\n",
       "      <td>Excellent</td>\n",
       "      <td>314</td>\n",
       "    </tr>\n",
       "    <tr>\n",
       "      <th>1</th>\n",
       "      <td>6304287</td>\n",
       "      <td>Izakaya Kikufuji</td>\n",
       "      <td>162</td>\n",
       "      <td>Makati City</td>\n",
       "      <td>Little Tokyo, 2277 Chino Roces Avenue, Legaspi...</td>\n",
       "      <td>Little Tokyo, Legaspi Village, Makati City</td>\n",
       "      <td>Little Tokyo, Legaspi Village, Makati City, Ma...</td>\n",
       "      <td>121.014101</td>\n",
       "      <td>14.553708</td>\n",
       "      <td>Japanese</td>\n",
       "      <td>...</td>\n",
       "      <td>Botswana Pula(P)</td>\n",
       "      <td>Yes</td>\n",
       "      <td>No</td>\n",
       "      <td>No</td>\n",
       "      <td>No</td>\n",
       "      <td>3</td>\n",
       "      <td>4.5</td>\n",
       "      <td>Dark Green</td>\n",
       "      <td>Excellent</td>\n",
       "      <td>591</td>\n",
       "    </tr>\n",
       "    <tr>\n",
       "      <th>2</th>\n",
       "      <td>6300002</td>\n",
       "      <td>Heat - Edsa Shangri-La</td>\n",
       "      <td>162</td>\n",
       "      <td>Mandaluyong City</td>\n",
       "      <td>Edsa Shangri-La, 1 Garden Way, Ortigas, Mandal...</td>\n",
       "      <td>Edsa Shangri-La, Ortigas, Mandaluyong City</td>\n",
       "      <td>Edsa Shangri-La, Ortigas, Mandaluyong City, Ma...</td>\n",
       "      <td>121.056831</td>\n",
       "      <td>14.581404</td>\n",
       "      <td>Seafood, Asian, Filipino, Indian</td>\n",
       "      <td>...</td>\n",
       "      <td>Botswana Pula(P)</td>\n",
       "      <td>Yes</td>\n",
       "      <td>No</td>\n",
       "      <td>No</td>\n",
       "      <td>No</td>\n",
       "      <td>4</td>\n",
       "      <td>4.4</td>\n",
       "      <td>Green</td>\n",
       "      <td>Very Good</td>\n",
       "      <td>270</td>\n",
       "    </tr>\n",
       "    <tr>\n",
       "      <th>3</th>\n",
       "      <td>6318506</td>\n",
       "      <td>Ooma</td>\n",
       "      <td>162</td>\n",
       "      <td>Mandaluyong City</td>\n",
       "      <td>Third Floor, Mega Fashion Hall, SM Megamall, O...</td>\n",
       "      <td>SM Megamall, Ortigas, Mandaluyong City</td>\n",
       "      <td>SM Megamall, Ortigas, Mandaluyong City, Mandal...</td>\n",
       "      <td>121.056475</td>\n",
       "      <td>14.585318</td>\n",
       "      <td>Japanese, Sushi</td>\n",
       "      <td>...</td>\n",
       "      <td>Botswana Pula(P)</td>\n",
       "      <td>No</td>\n",
       "      <td>No</td>\n",
       "      <td>No</td>\n",
       "      <td>No</td>\n",
       "      <td>4</td>\n",
       "      <td>4.9</td>\n",
       "      <td>Dark Green</td>\n",
       "      <td>Excellent</td>\n",
       "      <td>365</td>\n",
       "    </tr>\n",
       "    <tr>\n",
       "      <th>4</th>\n",
       "      <td>6314302</td>\n",
       "      <td>Sambo Kojin</td>\n",
       "      <td>162</td>\n",
       "      <td>Mandaluyong City</td>\n",
       "      <td>Third Floor, Mega Atrium, SM Megamall, Ortigas...</td>\n",
       "      <td>SM Megamall, Ortigas, Mandaluyong City</td>\n",
       "      <td>SM Megamall, Ortigas, Mandaluyong City, Mandal...</td>\n",
       "      <td>121.057508</td>\n",
       "      <td>14.584450</td>\n",
       "      <td>Japanese, Korean</td>\n",
       "      <td>...</td>\n",
       "      <td>Botswana Pula(P)</td>\n",
       "      <td>Yes</td>\n",
       "      <td>No</td>\n",
       "      <td>No</td>\n",
       "      <td>No</td>\n",
       "      <td>4</td>\n",
       "      <td>4.8</td>\n",
       "      <td>Dark Green</td>\n",
       "      <td>Excellent</td>\n",
       "      <td>229</td>\n",
       "    </tr>\n",
       "    <tr>\n",
       "      <th>5</th>\n",
       "      <td>18189371</td>\n",
       "      <td>Din Tai Fung</td>\n",
       "      <td>162</td>\n",
       "      <td>Mandaluyong City</td>\n",
       "      <td>Ground Floor, Mega Fashion Hall, SM Megamall, ...</td>\n",
       "      <td>SM Megamall, Ortigas, Mandaluyong City</td>\n",
       "      <td>SM Megamall, Ortigas, Mandaluyong City, Mandal...</td>\n",
       "      <td>121.056314</td>\n",
       "      <td>14.583764</td>\n",
       "      <td>Chinese</td>\n",
       "      <td>...</td>\n",
       "      <td>Botswana Pula(P)</td>\n",
       "      <td>No</td>\n",
       "      <td>No</td>\n",
       "      <td>No</td>\n",
       "      <td>No</td>\n",
       "      <td>3</td>\n",
       "      <td>4.4</td>\n",
       "      <td>Green</td>\n",
       "      <td>Very Good</td>\n",
       "      <td>336</td>\n",
       "    </tr>\n",
       "    <tr>\n",
       "      <th>6</th>\n",
       "      <td>6300781</td>\n",
       "      <td>Buffet 101</td>\n",
       "      <td>162</td>\n",
       "      <td>Pasay City</td>\n",
       "      <td>Building K, SM By The Bay, Sunset Boulevard, M...</td>\n",
       "      <td>SM by the Bay, Mall of Asia Complex, Pasay City</td>\n",
       "      <td>SM by the Bay, Mall of Asia Complex, Pasay Cit...</td>\n",
       "      <td>120.979667</td>\n",
       "      <td>14.531333</td>\n",
       "      <td>Asian, European</td>\n",
       "      <td>...</td>\n",
       "      <td>Botswana Pula(P)</td>\n",
       "      <td>Yes</td>\n",
       "      <td>No</td>\n",
       "      <td>No</td>\n",
       "      <td>No</td>\n",
       "      <td>4</td>\n",
       "      <td>4.0</td>\n",
       "      <td>Green</td>\n",
       "      <td>Very Good</td>\n",
       "      <td>520</td>\n",
       "    </tr>\n",
       "    <tr>\n",
       "      <th>7</th>\n",
       "      <td>6301290</td>\n",
       "      <td>Vikings</td>\n",
       "      <td>162</td>\n",
       "      <td>Pasay City</td>\n",
       "      <td>Building B, By The Bay, Seaside Boulevard, Mal...</td>\n",
       "      <td>SM by the Bay, Mall of Asia Complex, Pasay City</td>\n",
       "      <td>SM by the Bay, Mall of Asia Complex, Pasay Cit...</td>\n",
       "      <td>120.979333</td>\n",
       "      <td>14.540000</td>\n",
       "      <td>Seafood, Filipino, Asian, European</td>\n",
       "      <td>...</td>\n",
       "      <td>Botswana Pula(P)</td>\n",
       "      <td>Yes</td>\n",
       "      <td>No</td>\n",
       "      <td>No</td>\n",
       "      <td>No</td>\n",
       "      <td>4</td>\n",
       "      <td>4.2</td>\n",
       "      <td>Green</td>\n",
       "      <td>Very Good</td>\n",
       "      <td>677</td>\n",
       "    </tr>\n",
       "    <tr>\n",
       "      <th>8</th>\n",
       "      <td>6300010</td>\n",
       "      <td>Spiral - Sofitel Philippine Plaza Manila</td>\n",
       "      <td>162</td>\n",
       "      <td>Pasay City</td>\n",
       "      <td>Plaza Level, Sofitel Philippine Plaza Manila, ...</td>\n",
       "      <td>Sofitel Philippine Plaza Manila, Pasay City</td>\n",
       "      <td>Sofitel Philippine Plaza Manila, Pasay City, P...</td>\n",
       "      <td>120.980090</td>\n",
       "      <td>14.552990</td>\n",
       "      <td>European, Asian, Indian</td>\n",
       "      <td>...</td>\n",
       "      <td>Botswana Pula(P)</td>\n",
       "      <td>Yes</td>\n",
       "      <td>No</td>\n",
       "      <td>No</td>\n",
       "      <td>No</td>\n",
       "      <td>4</td>\n",
       "      <td>4.9</td>\n",
       "      <td>Dark Green</td>\n",
       "      <td>Excellent</td>\n",
       "      <td>621</td>\n",
       "    </tr>\n",
       "    <tr>\n",
       "      <th>9</th>\n",
       "      <td>6314987</td>\n",
       "      <td>Locavore</td>\n",
       "      <td>162</td>\n",
       "      <td>Pasig City</td>\n",
       "      <td>Brixton Technology Center, 10 Brixton Street, ...</td>\n",
       "      <td>Kapitolyo</td>\n",
       "      <td>Kapitolyo, Pasig City</td>\n",
       "      <td>121.056532</td>\n",
       "      <td>14.572041</td>\n",
       "      <td>Filipino</td>\n",
       "      <td>...</td>\n",
       "      <td>Botswana Pula(P)</td>\n",
       "      <td>Yes</td>\n",
       "      <td>No</td>\n",
       "      <td>No</td>\n",
       "      <td>No</td>\n",
       "      <td>3</td>\n",
       "      <td>4.8</td>\n",
       "      <td>Dark Green</td>\n",
       "      <td>Excellent</td>\n",
       "      <td>532</td>\n",
       "    </tr>\n",
       "  </tbody>\n",
       "</table>\n",
       "<p>10 rows × 21 columns</p>\n",
       "</div>"
      ],
      "text/plain": [
       "   Restaurant ID                           Restaurant Name  Country Code  \\\n",
       "0        6317637                          Le Petit Souffle           162   \n",
       "1        6304287                          Izakaya Kikufuji           162   \n",
       "2        6300002                    Heat - Edsa Shangri-La           162   \n",
       "3        6318506                                      Ooma           162   \n",
       "4        6314302                               Sambo Kojin           162   \n",
       "5       18189371                              Din Tai Fung           162   \n",
       "6        6300781                                Buffet 101           162   \n",
       "7        6301290                                   Vikings           162   \n",
       "8        6300010  Spiral - Sofitel Philippine Plaza Manila           162   \n",
       "9        6314987                                  Locavore           162   \n",
       "\n",
       "               City                                            Address  \\\n",
       "0       Makati City  Third Floor, Century City Mall, Kalayaan Avenu...   \n",
       "1       Makati City  Little Tokyo, 2277 Chino Roces Avenue, Legaspi...   \n",
       "2  Mandaluyong City  Edsa Shangri-La, 1 Garden Way, Ortigas, Mandal...   \n",
       "3  Mandaluyong City  Third Floor, Mega Fashion Hall, SM Megamall, O...   \n",
       "4  Mandaluyong City  Third Floor, Mega Atrium, SM Megamall, Ortigas...   \n",
       "5  Mandaluyong City  Ground Floor, Mega Fashion Hall, SM Megamall, ...   \n",
       "6        Pasay City  Building K, SM By The Bay, Sunset Boulevard, M...   \n",
       "7        Pasay City  Building B, By The Bay, Seaside Boulevard, Mal...   \n",
       "8        Pasay City  Plaza Level, Sofitel Philippine Plaza Manila, ...   \n",
       "9        Pasig City  Brixton Technology Center, 10 Brixton Street, ...   \n",
       "\n",
       "                                          Locality  \\\n",
       "0        Century City Mall, Poblacion, Makati City   \n",
       "1       Little Tokyo, Legaspi Village, Makati City   \n",
       "2       Edsa Shangri-La, Ortigas, Mandaluyong City   \n",
       "3           SM Megamall, Ortigas, Mandaluyong City   \n",
       "4           SM Megamall, Ortigas, Mandaluyong City   \n",
       "5           SM Megamall, Ortigas, Mandaluyong City   \n",
       "6  SM by the Bay, Mall of Asia Complex, Pasay City   \n",
       "7  SM by the Bay, Mall of Asia Complex, Pasay City   \n",
       "8      Sofitel Philippine Plaza Manila, Pasay City   \n",
       "9                                        Kapitolyo   \n",
       "\n",
       "                                    Locality Verbose   Longitude   Latitude  \\\n",
       "0  Century City Mall, Poblacion, Makati City, Mak...  121.027535  14.565443   \n",
       "1  Little Tokyo, Legaspi Village, Makati City, Ma...  121.014101  14.553708   \n",
       "2  Edsa Shangri-La, Ortigas, Mandaluyong City, Ma...  121.056831  14.581404   \n",
       "3  SM Megamall, Ortigas, Mandaluyong City, Mandal...  121.056475  14.585318   \n",
       "4  SM Megamall, Ortigas, Mandaluyong City, Mandal...  121.057508  14.584450   \n",
       "5  SM Megamall, Ortigas, Mandaluyong City, Mandal...  121.056314  14.583764   \n",
       "6  SM by the Bay, Mall of Asia Complex, Pasay Cit...  120.979667  14.531333   \n",
       "7  SM by the Bay, Mall of Asia Complex, Pasay Cit...  120.979333  14.540000   \n",
       "8  Sofitel Philippine Plaza Manila, Pasay City, P...  120.980090  14.552990   \n",
       "9                              Kapitolyo, Pasig City  121.056532  14.572041   \n",
       "\n",
       "                             Cuisines  ...          Currency  \\\n",
       "0          French, Japanese, Desserts  ...  Botswana Pula(P)   \n",
       "1                            Japanese  ...  Botswana Pula(P)   \n",
       "2    Seafood, Asian, Filipino, Indian  ...  Botswana Pula(P)   \n",
       "3                     Japanese, Sushi  ...  Botswana Pula(P)   \n",
       "4                    Japanese, Korean  ...  Botswana Pula(P)   \n",
       "5                             Chinese  ...  Botswana Pula(P)   \n",
       "6                     Asian, European  ...  Botswana Pula(P)   \n",
       "7  Seafood, Filipino, Asian, European  ...  Botswana Pula(P)   \n",
       "8             European, Asian, Indian  ...  Botswana Pula(P)   \n",
       "9                            Filipino  ...  Botswana Pula(P)   \n",
       "\n",
       "  Has Table booking Has Online delivery Is delivering now  \\\n",
       "0               Yes                  No                No   \n",
       "1               Yes                  No                No   \n",
       "2               Yes                  No                No   \n",
       "3                No                  No                No   \n",
       "4               Yes                  No                No   \n",
       "5                No                  No                No   \n",
       "6               Yes                  No                No   \n",
       "7               Yes                  No                No   \n",
       "8               Yes                  No                No   \n",
       "9               Yes                  No                No   \n",
       "\n",
       "  Switch to order menu Price range  Aggregate rating  Rating color  \\\n",
       "0                   No           3               4.8    Dark Green   \n",
       "1                   No           3               4.5    Dark Green   \n",
       "2                   No           4               4.4         Green   \n",
       "3                   No           4               4.9    Dark Green   \n",
       "4                   No           4               4.8    Dark Green   \n",
       "5                   No           3               4.4         Green   \n",
       "6                   No           4               4.0         Green   \n",
       "7                   No           4               4.2         Green   \n",
       "8                   No           4               4.9    Dark Green   \n",
       "9                   No           3               4.8    Dark Green   \n",
       "\n",
       "  Rating text Votes  \n",
       "0   Excellent   314  \n",
       "1   Excellent   591  \n",
       "2   Very Good   270  \n",
       "3   Excellent   365  \n",
       "4   Excellent   229  \n",
       "5   Very Good   336  \n",
       "6   Very Good   520  \n",
       "7   Very Good   677  \n",
       "8   Excellent   621  \n",
       "9   Excellent   532  \n",
       "\n",
       "[10 rows x 21 columns]"
      ]
     },
     "execution_count": 3,
     "metadata": {},
     "output_type": "execute_result"
    }
   ],
   "source": [
    "#check data\n",
    "dataset.head(10)"
   ]
  },
  {
   "cell_type": "code",
   "execution_count": 4,
   "id": "2907561e-6bd6-4f31-a2b6-c63008dd20b4",
   "metadata": {},
   "outputs": [
    {
     "data": {
      "text/plain": [
       "(9551, 21)"
      ]
     },
     "execution_count": 4,
     "metadata": {},
     "output_type": "execute_result"
    }
   ],
   "source": [
    "#check database shape\n",
    "dataset.shape"
   ]
  },
  {
   "cell_type": "code",
   "execution_count": 5,
   "id": "31430d67-130c-4ebe-a383-ec7ea8f15a89",
   "metadata": {},
   "outputs": [
    {
     "name": "stdout",
     "output_type": "stream",
     "text": [
      "<class 'pandas.core.frame.DataFrame'>\n",
      "RangeIndex: 9551 entries, 0 to 9550\n",
      "Data columns (total 21 columns):\n",
      " #   Column                Non-Null Count  Dtype  \n",
      "---  ------                --------------  -----  \n",
      " 0   Restaurant ID         9551 non-null   int64  \n",
      " 1   Restaurant Name       9551 non-null   object \n",
      " 2   Country Code          9551 non-null   int64  \n",
      " 3   City                  9551 non-null   object \n",
      " 4   Address               9551 non-null   object \n",
      " 5   Locality              9551 non-null   object \n",
      " 6   Locality Verbose      9551 non-null   object \n",
      " 7   Longitude             9551 non-null   float64\n",
      " 8   Latitude              9551 non-null   float64\n",
      " 9   Cuisines              9542 non-null   object \n",
      " 10  Average Cost for two  9551 non-null   int64  \n",
      " 11  Currency              9551 non-null   object \n",
      " 12  Has Table booking     9551 non-null   object \n",
      " 13  Has Online delivery   9551 non-null   object \n",
      " 14  Is delivering now     9551 non-null   object \n",
      " 15  Switch to order menu  9551 non-null   object \n",
      " 16  Price range           9551 non-null   int64  \n",
      " 17  Aggregate rating      9551 non-null   float64\n",
      " 18  Rating color          9551 non-null   object \n",
      " 19  Rating text           9551 non-null   object \n",
      " 20  Votes                 9551 non-null   int64  \n",
      "dtypes: float64(3), int64(5), object(13)\n",
      "memory usage: 1.5+ MB\n"
     ]
    }
   ],
   "source": [
    "#check dataset information\n",
    "dataset.info()"
   ]
  },
  {
   "cell_type": "code",
   "execution_count": 6,
   "id": "43bc3e18-8734-4416-8213-57b69c92e5c2",
   "metadata": {},
   "outputs": [
    {
     "data": {
      "text/plain": [
       "Index(['Restaurant ID', 'Restaurant Name', 'Country Code', 'City', 'Address',\n",
       "       'Locality', 'Locality Verbose', 'Longitude', 'Latitude', 'Cuisines',\n",
       "       'Average Cost for two', 'Currency', 'Has Table booking',\n",
       "       'Has Online delivery', 'Is delivering now', 'Switch to order menu',\n",
       "       'Price range', 'Aggregate rating', 'Rating color', 'Rating text',\n",
       "       'Votes'],\n",
       "      dtype='object')"
      ]
     },
     "execution_count": 6,
     "metadata": {},
     "output_type": "execute_result"
    }
   ],
   "source": [
    "#check dataset column names\n",
    "dataset.columns"
   ]
  },
  {
   "cell_type": "markdown",
   "id": "39a3c9ed-2a2b-4419-8b1d-8e10df894acd",
   "metadata": {},
   "source": [
    "Data Preprocessing"
   ]
  },
  {
   "cell_type": "code",
   "execution_count": 7,
   "id": "0e9a4a1a-9591-4cb4-b1ac-a51952c647b8",
   "metadata": {},
   "outputs": [
    {
     "data": {
      "text/plain": [
       "Restaurant ID           0\n",
       "Restaurant Name         0\n",
       "Country Code            0\n",
       "City                    0\n",
       "Address                 0\n",
       "Locality                0\n",
       "Locality Verbose        0\n",
       "Longitude               0\n",
       "Latitude                0\n",
       "Cuisines                9\n",
       "Average Cost for two    0\n",
       "Currency                0\n",
       "Has Table booking       0\n",
       "Has Online delivery     0\n",
       "Is delivering now       0\n",
       "Switch to order menu    0\n",
       "Price range             0\n",
       "Aggregate rating        0\n",
       "Rating color            0\n",
       "Rating text             0\n",
       "Votes                   0\n",
       "dtype: int64"
      ]
     },
     "execution_count": 7,
     "metadata": {},
     "output_type": "execute_result"
    }
   ],
   "source": [
    "#check for null values\n",
    "pd.isnull(dataset).sum()"
   ]
  },
  {
   "cell_type": "code",
   "execution_count": 8,
   "id": "fd4a4248-4f54-4eee-877c-975883b703ca",
   "metadata": {},
   "outputs": [],
   "source": [
    "#drop all null values\n",
    "dataset.dropna(inplace=True)"
   ]
  },
  {
   "cell_type": "code",
   "execution_count": 9,
   "id": "541739e8-8b97-43be-a550-88ca56fcd392",
   "metadata": {},
   "outputs": [
    {
     "data": {
      "text/plain": [
       "(9542, 21)"
      ]
     },
     "execution_count": 9,
     "metadata": {},
     "output_type": "execute_result"
    }
   ],
   "source": [
    "#check database\n",
    "dataset.shape"
   ]
  },
  {
   "cell_type": "code",
   "execution_count": 10,
   "id": "e5dff835-9658-4b7a-8767-d66e44ffe9d8",
   "metadata": {},
   "outputs": [
    {
     "name": "stdout",
     "output_type": "stream",
     "text": [
      "<class 'pandas.core.frame.DataFrame'>\n",
      "Index: 9542 entries, 0 to 9550\n",
      "Data columns (total 21 columns):\n",
      " #   Column                Non-Null Count  Dtype  \n",
      "---  ------                --------------  -----  \n",
      " 0   Restaurant ID         9542 non-null   int64  \n",
      " 1   Restaurant Name       9542 non-null   object \n",
      " 2   Country Code          9542 non-null   int64  \n",
      " 3   City                  9542 non-null   object \n",
      " 4   Address               9542 non-null   object \n",
      " 5   Locality              9542 non-null   object \n",
      " 6   Locality Verbose      9542 non-null   object \n",
      " 7   Longitude             9542 non-null   float64\n",
      " 8   Latitude              9542 non-null   float64\n",
      " 9   Cuisines              9542 non-null   object \n",
      " 10  Average Cost for two  9542 non-null   int64  \n",
      " 11  Currency              9542 non-null   object \n",
      " 12  Has Table booking     9542 non-null   object \n",
      " 13  Has Online delivery   9542 non-null   object \n",
      " 14  Is delivering now     9542 non-null   object \n",
      " 15  Switch to order menu  9542 non-null   object \n",
      " 16  Price range           9542 non-null   int64  \n",
      " 17  Aggregate rating      9542 non-null   float64\n",
      " 18  Rating color          9542 non-null   object \n",
      " 19  Rating text           9542 non-null   object \n",
      " 20  Votes                 9542 non-null   int64  \n",
      "dtypes: float64(3), int64(5), object(13)\n",
      "memory usage: 1.6+ MB\n"
     ]
    }
   ],
   "source": [
    "dataset.info()"
   ]
  },
  {
   "cell_type": "code",
   "execution_count": 11,
   "id": "2e0a83af-9e18-463e-be8b-ff3a8a49526e",
   "metadata": {},
   "outputs": [
    {
     "data": {
      "text/html": [
       "<div>\n",
       "<style scoped>\n",
       "    .dataframe tbody tr th:only-of-type {\n",
       "        vertical-align: middle;\n",
       "    }\n",
       "\n",
       "    .dataframe tbody tr th {\n",
       "        vertical-align: top;\n",
       "    }\n",
       "\n",
       "    .dataframe thead th {\n",
       "        text-align: right;\n",
       "    }\n",
       "</style>\n",
       "<table border=\"1\" class=\"dataframe\">\n",
       "  <thead>\n",
       "    <tr style=\"text-align: right;\">\n",
       "      <th></th>\n",
       "      <th>Average Cost for two</th>\n",
       "      <th>Price range</th>\n",
       "      <th>Aggregate rating</th>\n",
       "      <th>Votes</th>\n",
       "    </tr>\n",
       "  </thead>\n",
       "  <tbody>\n",
       "    <tr>\n",
       "      <th>count</th>\n",
       "      <td>9542.000000</td>\n",
       "      <td>9542.000000</td>\n",
       "      <td>9542.000000</td>\n",
       "      <td>9542.000000</td>\n",
       "    </tr>\n",
       "    <tr>\n",
       "      <th>mean</th>\n",
       "      <td>1200.326137</td>\n",
       "      <td>1.804968</td>\n",
       "      <td>2.665238</td>\n",
       "      <td>156.772060</td>\n",
       "    </tr>\n",
       "    <tr>\n",
       "      <th>std</th>\n",
       "      <td>16128.743876</td>\n",
       "      <td>0.905563</td>\n",
       "      <td>1.516588</td>\n",
       "      <td>430.203324</td>\n",
       "    </tr>\n",
       "    <tr>\n",
       "      <th>min</th>\n",
       "      <td>0.000000</td>\n",
       "      <td>1.000000</td>\n",
       "      <td>0.000000</td>\n",
       "      <td>0.000000</td>\n",
       "    </tr>\n",
       "    <tr>\n",
       "      <th>25%</th>\n",
       "      <td>250.000000</td>\n",
       "      <td>1.000000</td>\n",
       "      <td>2.500000</td>\n",
       "      <td>5.000000</td>\n",
       "    </tr>\n",
       "    <tr>\n",
       "      <th>50%</th>\n",
       "      <td>400.000000</td>\n",
       "      <td>2.000000</td>\n",
       "      <td>3.200000</td>\n",
       "      <td>31.000000</td>\n",
       "    </tr>\n",
       "    <tr>\n",
       "      <th>75%</th>\n",
       "      <td>700.000000</td>\n",
       "      <td>2.000000</td>\n",
       "      <td>3.700000</td>\n",
       "      <td>130.000000</td>\n",
       "    </tr>\n",
       "    <tr>\n",
       "      <th>max</th>\n",
       "      <td>800000.000000</td>\n",
       "      <td>4.000000</td>\n",
       "      <td>4.900000</td>\n",
       "      <td>10934.000000</td>\n",
       "    </tr>\n",
       "  </tbody>\n",
       "</table>\n",
       "</div>"
      ],
      "text/plain": [
       "       Average Cost for two  Price range  Aggregate rating         Votes\n",
       "count           9542.000000  9542.000000       9542.000000   9542.000000\n",
       "mean            1200.326137     1.804968          2.665238    156.772060\n",
       "std            16128.743876     0.905563          1.516588    430.203324\n",
       "min                0.000000     1.000000          0.000000      0.000000\n",
       "25%              250.000000     1.000000          2.500000      5.000000\n",
       "50%              400.000000     2.000000          3.200000     31.000000\n",
       "75%              700.000000     2.000000          3.700000    130.000000\n",
       "max           800000.000000     4.000000          4.900000  10934.000000"
      ]
     },
     "execution_count": 11,
     "metadata": {},
     "output_type": "execute_result"
    }
   ],
   "source": [
    "#check description of data\n",
    "dataset[['Average Cost for two', 'Price range', 'Aggregate rating', 'Votes']].describe()"
   ]
  },
  {
   "cell_type": "code",
   "execution_count": 15,
   "id": "0016a5ce-9f3c-400c-b0b3-6a1790a9bf3e",
   "metadata": {},
   "outputs": [
    {
     "name": "stdout",
     "output_type": "stream",
     "text": [
      "count    9542.000000\n",
      "mean        2.665238\n",
      "std         1.516588\n",
      "min         0.000000\n",
      "25%         2.500000\n",
      "50%         3.200000\n",
      "75%         3.700000\n",
      "max         4.900000\n",
      "Name: Aggregate rating, dtype: float64\n"
     ]
    },
    {
     "data": {
      "image/png": "[encoded data removed]",
      "text/plain": [
       "<Figure size 1000x500 with 1 Axes>"
      ]
     },
     "metadata": {},
     "output_type": "display_data"
    }
   ],
   "source": [
    "#display basic statistics of 'aggregate rating'\n",
    "print(dataset['Aggregate rating'].describe())\n",
    "\n",
    "#plot the histogram to show distribution of aggreagte ratings\n",
    "plt.figure(figsize=(10,5))\n",
    "sns.histplot(dataset['Aggregate rating'], bins=10, kde=True, color=\"blue\")\n",
    "plt.xlabel(\"Aggregate Rating\")\n",
    "plt.ylabel(\"Frequency\")\n",
    "plt.title(\"Distribution of Aggregate Ratings\")\n",
    "plt.show()"
   ]
  },
  {
   "cell_type": "code",
   "execution_count": 17,
   "id": "a51dda20-c8f9-4437-ba81-ae717f5d7929",
   "metadata": {},
   "outputs": [
    {
     "name": "stdout",
     "output_type": "stream",
     "text": [
      "The Most Common Aggregate Rating is: 0.0\n"
     ]
    },
    {
     "data": {
      "image/png": "[encoded data removed]",
      "text/plain": [
       "<Figure size 800x500 with 1 Axes>"
      ]
     },
     "metadata": {},
     "output_type": "display_data"
    }
   ],
   "source": [
    "#find the most common rating range\n",
    "most_common_range= dataset['Aggregate rating'].value_counts().idxmax()\n",
    "print(f\"The Most Common Aggregate Rating is: {most_common_range}\")\n",
    "\n",
    "#box plot to show the distribution\n",
    "plt.figure(figsize=(8,5))\n",
    "sns.boxplot(x=dataset['Aggregate rating'], color=\"orange\")\n",
    "plt.title(\"Boxplot of Aggregate Rating\")\n",
    "plt.xlabel(\"Aggregate Rating\")\n",
    "plt.show()"
   ]
  },
  {
   "cell_type": "markdown",
   "id": "b1dd8ead-e97f-49f0-b656-ae5e93e8268f",
   "metadata": {},
   "source": [
    "1:2 CALCULATE THE AVERAGE NUMBER OF VOTES RECEIVED BY RESTAURANTS."
   ]
  },
  {
   "cell_type": "code",
   "execution_count": 19,
   "id": "5a4082a0-245c-4db5-80c0-afc4b3da9f9c",
   "metadata": {},
   "outputs": [
    {
     "name": "stdout",
     "output_type": "stream",
     "text": [
      "The Average number of Votes recevied by restaurants is 156.77\n"
     ]
    },
    {
     "data": {
      "image/png": "[encoded data removed]",
      "text/plain": [
       "<Figure size 1000x500 with 1 Axes>"
      ]
     },
     "metadata": {},
     "output_type": "display_data"
    }
   ],
   "source": [
    "#calculate the average number of votes\n",
    "average_votes= dataset['Votes'].mean()\n",
    "print(f\"The Average number of Votes recevied by restaurants is {average_votes:.2f}\")\n",
    "\n",
    "#create a histogram to visualize the distribution of votes\n",
    "plt.figure(figsize=(10,5))\n",
    "plt.hist(dataset['Votes'], bins=30, color=\"skyblue\",edgecolor=\"black\")\n",
    "plt.axvline(average_votes,color=\"red\", linestyle=\"dashed\", linewidth=2, label=f'Avg votes: {average_votes:.2f}')\n",
    "plt.xlabel(\"Number of Votes\")\n",
    "plt.ylabel(\"Frequency\")\n",
    "plt.title(\"Distribution of Votes Received by Restaurants\")\n",
    "plt.legend()\n",
    "plt.grid(axis=\"y\", linestyle=\"--\", alpha=0.7)\n",
    "plt.show()"
   ]
  },
  {
   "cell_type": "code",
   "execution_count": null,
   "id": "787d537a-b8e4-48b8-8daf-f7eea378600a",
   "metadata": {},
   "outputs": [],
   "source": []
  }
 ],
 "metadata": {
  "kernelspec": {
   "display_name": "Python 3 (ipykernel)",
   "language": "python",
   "name": "python3"
  },
  "language_info": {
   "codemirror_mode": {
    "name": "ipython",
    "version": 3
   },
   "file_extension": ".py",
   "mimetype": "text/x-python",
   "name": "python",
   "nbconvert_exporter": "python",
   "pygments_lexer": "ipython3",
   "version": "3.12.7"
  }
 },
 "nbformat": 4,
 "nbformat_minor": 5
}
